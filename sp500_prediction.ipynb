{
 "cells": [
  {
   "cell_type": "code",
   "execution_count": 1,
   "id": "43d1a484-c7e9-4372-899f-a878578a4a1d",
   "metadata": {},
   "outputs": [],
   "source": [
    "import copy\n",
    "import pandas as pd\n",
    "import numpy as np\n",
    "from sklearn.model_selection import train_test_split\n",
    "from sklearn.pipeline import Pipeline\n",
    "from sklearn.compose import ColumnTransformer\n",
    "from sklearn.impute import SimpleImputer\n",
    "from sklearn.preprocessing import StandardScaler, MinMaxScaler, OneHotEncoder, PowerTransformer\n",
    "from sklearn.metrics import mean_squared_error\n",
    "import shap\n",
    "from feature_engine.selection import DropConstantFeatures, DropCorrelatedFeatures, RecursiveFeatureElimination\n",
    "from feature_engine.encoding import RareLabelEncoder\n",
    "from feature_engine.outliers import OutlierTrimmer\n",
    "from catboost import CatBoostRegressor, Pool\n",
    "\n",
    "SEED = 23\n",
    "\n",
    "pd.set_option('display.max_columns', None)"
   ]
  },
  {
   "cell_type": "code",
   "execution_count": null,
   "id": "2afd9e9f-35c5-4b73-a9da-bc4dd2e39b30",
   "metadata": {},
   "outputs": [],
   "source": [
    "#pip install --force-reinstall --upgrade git+https://github.com/SerjWeesp/AmarinML.git\n",
    "from amarinml import *"
   ]
  },
  {
   "cell_type": "code",
   "execution_count": 3,
   "id": "aa8c524f-489e-47e1-b77a-733e2086bf56",
   "metadata": {},
   "outputs": [],
   "source": [
    "df = pd.read_csv('D:/OneDrive/datasets/sp500_diff.csv', low_memory=False)"
   ]
  },
  {
   "cell_type": "code",
   "execution_count": 4,
   "id": "cbf4773e-e141-401e-ba02-468221793a55",
   "metadata": {},
   "outputs": [],
   "source": [
    "df.drop(columns=['Unnamed: 0'], axis=1, inplace = True)"
   ]
  },
  {
   "cell_type": "code",
   "execution_count": 5,
   "id": "cf988400-8dde-4b16-b9fe-f3b53e207ad2",
   "metadata": {},
   "outputs": [
    {
     "name": "stdout",
     "output_type": "stream",
     "text": [
      "<class 'pandas.core.frame.DataFrame'>\n",
      "RangeIndex: 27723 entries, 0 to 27722\n",
      "Columns: 401 entries, Ticker to eps-earnings-per-share-diluted_pct_diff_4\n",
      "dtypes: float64(396), int64(1), object(4)\n",
      "memory usage: 84.8+ MB\n"
     ]
    }
   ],
   "source": [
    "df.info()"
   ]
  },
  {
   "cell_type": "code",
   "execution_count": 6,
   "id": "6da8ab30-e393-4037-a67c-dc05518ce2ab",
   "metadata": {},
   "outputs": [],
   "source": [
    "df = df.sort_values(by=['Ticker','Date'])"
   ]
  },
  {
   "cell_type": "code",
   "execution_count": 7,
   "id": "06ffe4fc-13b7-4c29-93bb-e3e3a939766e",
   "metadata": {},
   "outputs": [],
   "source": [
    "target = 'Future_Price_pct_diff_1'\n",
    "df[target]=df.groupby('Ticker')['ClosePrice_pct_diff_1'].shift(1)"
   ]
  },
  {
   "cell_type": "code",
   "execution_count": 8,
   "id": "ff745daf-6163-4e48-a0c2-c5c08c1b2f7f",
   "metadata": {},
   "outputs": [
    {
     "data": {
      "text/plain": [
       "count    27228.000000\n",
       "mean         0.044192\n",
       "std          0.150074\n",
       "min         -0.835395\n",
       "25%         -0.039721\n",
       "50%          0.042890\n",
       "75%          0.124788\n",
       "max          2.553191\n",
       "Name: Future_Price_pct_diff_1, dtype: float64"
      ]
     },
     "execution_count": 8,
     "metadata": {},
     "output_type": "execute_result"
    }
   ],
   "source": [
    "df[target].describe()"
   ]
  },
  {
   "cell_type": "code",
   "execution_count": 9,
   "id": "c144c427-9258-4a06-8c8c-829fc95122f1",
   "metadata": {},
   "outputs": [],
   "source": [
    "df.dropna(inplace = True)"
   ]
  },
  {
   "cell_type": "code",
   "execution_count": 10,
   "id": "15da0034-dd84-4304-aae5-8f898dde1771",
   "metadata": {},
   "outputs": [],
   "source": [
    "df = df.sort_values(by=['Date','Ticker'])"
   ]
  },
  {
   "cell_type": "code",
   "execution_count": 11,
   "id": "a590a1fe-2e2b-4da9-975f-a1272f947f6b",
   "metadata": {},
   "outputs": [],
   "source": [
    "train_df, test_df = train_test_split(df, test_size=0.1, random_state=SEED, shuffle=False)"
   ]
  },
  {
   "cell_type": "code",
   "execution_count": 12,
   "id": "cda23cfd-338d-4c4c-9937-ff0511388629",
   "metadata": {},
   "outputs": [],
   "source": [
    "features = df.drop(columns=[target], axis=1).columns\n",
    "cat_features = df.select_dtypes(include=['object', 'category']).columns.tolist()\n",
    "\n",
    "train_pool = Pool(train_df[features], label=train_df[target], cat_features=cat_features)\n",
    "test_pool = Pool(test_df[features], label=test_df[target], cat_features=cat_features)"
   ]
  },
  {
   "cell_type": "code",
   "execution_count": 13,
   "id": "a26591d1-b901-45bf-8ae1-f42f8fe8d376",
   "metadata": {},
   "outputs": [],
   "source": [
    "X_train = train_df[features]\n",
    "y_train = train_df[target]\n",
    "X_test = test_df[features]\n",
    "y_test = test_df[target]"
   ]
  },
  {
   "cell_type": "code",
   "execution_count": 20,
   "id": "dfc839ac-9bc3-4055-9171-c609877837ff",
   "metadata": {},
   "outputs": [],
   "source": [
    "model = CatBoostRegressor(\n",
    "    iterations=1000,\n",
    "    learning_rate=0.1,\n",
    "    depth=8,\n",
    "    random_seed=SEED,\n",
    "    verbose=50,\n",
    "    thread_count=-1,  # Use all available threads\n",
    "    task_type=\"CPU\"   # Ensure CPU is used\n",
    ")"
   ]
  },
  {
   "cell_type": "code",
   "execution_count": 21,
   "id": "ab238c3c",
   "metadata": {},
   "outputs": [
    {
     "name": "stdout",
     "output_type": "stream",
     "text": [
      "0:\tlearn: 0.1420593\ttotal: 198ms\tremaining: 3m 17s\n",
      "50:\tlearn: 0.0653811\ttotal: 8.44s\tremaining: 2m 37s\n",
      "100:\tlearn: 0.0574887\ttotal: 16.7s\tremaining: 2m 29s\n",
      "150:\tlearn: 0.0516988\ttotal: 25.1s\tremaining: 2m 20s\n",
      "200:\tlearn: 0.0478070\ttotal: 33.3s\tremaining: 2m 12s\n",
      "250:\tlearn: 0.0446973\ttotal: 41.6s\tremaining: 2m 4s\n",
      "300:\tlearn: 0.0419920\ttotal: 50s\tremaining: 1m 56s\n",
      "350:\tlearn: 0.0396947\ttotal: 58.2s\tremaining: 1m 47s\n",
      "400:\tlearn: 0.0375875\ttotal: 1m 6s\tremaining: 1m 39s\n",
      "450:\tlearn: 0.0356831\ttotal: 1m 14s\tremaining: 1m 30s\n",
      "500:\tlearn: 0.0337719\ttotal: 1m 22s\tremaining: 1m 22s\n",
      "550:\tlearn: 0.0320997\ttotal: 1m 31s\tremaining: 1m 14s\n",
      "600:\tlearn: 0.0306008\ttotal: 1m 39s\tremaining: 1m 6s\n",
      "650:\tlearn: 0.0292103\ttotal: 1m 47s\tremaining: 57.7s\n",
      "700:\tlearn: 0.0277946\ttotal: 1m 55s\tremaining: 49.4s\n",
      "750:\tlearn: 0.0264302\ttotal: 2m 4s\tremaining: 41.1s\n",
      "800:\tlearn: 0.0252269\ttotal: 2m 12s\tremaining: 32.9s\n",
      "850:\tlearn: 0.0241811\ttotal: 2m 20s\tremaining: 24.6s\n",
      "900:\tlearn: 0.0230630\ttotal: 2m 28s\tremaining: 16.4s\n",
      "950:\tlearn: 0.0220501\ttotal: 2m 37s\tremaining: 8.1s\n",
      "999:\tlearn: 0.0211013\ttotal: 2m 45s\tremaining: 0us\n"
     ]
    },
    {
     "data": {
      "text/plain": [
       "<catboost.core.CatBoostRegressor at 0x161ca903c90>"
      ]
     },
     "execution_count": 21,
     "metadata": {},
     "output_type": "execute_result"
    }
   ],
   "source": [
    "model.fit(train_pool)"
   ]
  },
  {
   "cell_type": "code",
   "execution_count": null,
   "id": "a6094bdf-b110-410c-97b6-ca243cdd5920",
   "metadata": {},
   "outputs": [
    {
     "name": "stdout",
     "output_type": "stream",
     "text": [
      "                           feature  importance\n",
      "265            MinPrice_pct_diff_1   22.922979\n",
      "251            MaxPrice_pct_diff_1   13.566471\n",
      "165          ClosePrice_pct_diff_1   11.824799\n",
      "1                             Date    9.662177\n",
      "249           MarketCap_pct_diff_1    3.126672\n",
      "266            MinPrice_pct_diff_4    2.302344\n",
      "166          ClosePrice_pct_diff_4    1.980998\n",
      "70                          RSI_14    1.603870\n",
      "367            StdPrice_pct_diff_1    1.358624\n",
      "250           MarketCap_pct_diff_4    1.163195\n",
      "347              RSI_14_pct_diff_1    1.063409\n",
      "35                     MACD_Signal    0.984921\n",
      "259          MeanVolume_pct_diff_1    0.737230\n",
      "258           MeanPrice_pct_diff_4    0.730424\n",
      "34                       MACD_Hist    0.713945\n",
      "257           MeanPrice_pct_diff_1    0.709398\n",
      "263        MedianVolume_pct_diff_1    0.686994\n",
      "33                            MACD    0.616051\n",
      "134                    GICS Sector    0.612909\n",
      "368            StdPrice_pct_diff_4    0.511330\n",
      "252            MaxPrice_pct_diff_4    0.503335\n",
      "331         PriceToBook_pct_diff_1    0.446358\n",
      "262         MedianPrice_pct_diff_4    0.384551\n",
      "243                MACD_pct_diff_1    0.379486\n",
      "261         MedianPrice_pct_diff_1    0.344404\n",
      "247         MACD_Signal_pct_diff_1    0.318557\n",
      "348              RSI_14_pct_diff_4    0.317988\n",
      "365  Shares Outstanding_pct_diff_1    0.295673\n",
      "245           MACD_Hist_pct_diff_1    0.284674\n",
      "264        MedianVolume_pct_diff_4    0.279752\n"
     ]
    }
   ],
   "source": [
    "# Retrieve feature importances\n",
    "importances = model.get_feature_importance()\n",
    "\n",
    "# Retrieve the corresponding feature names (if available)\n",
    "feature_names = model.feature_names_\n",
    "\n",
    "# Create a DataFrame with the feature names and their importances\n",
    "importance_df = pd.DataFrame({\n",
    "    'feature': feature_names,\n",
    "    'importance': importances\n",
    "})\n",
    "\n",
    "# Sort the DataFrame in descending order by importance\n",
    "importance_df = importance_df.sort_values(by='importance', ascending=False)\n",
    "\n",
    "# Print the top 30 important features\n",
    "print(importance_df.head(30))"
   ]
  },
  {
   "cell_type": "code",
   "execution_count": 23,
   "id": "dc53e5d9-ca2d-44c7-9f0f-5bd08ac3291d",
   "metadata": {},
   "outputs": [
    {
     "name": "stdout",
     "output_type": "stream",
     "text": [
      "Test RMSE: 0.07590568914154557\n"
     ]
    }
   ],
   "source": [
    "preds = model.predict(test_pool)\n",
    "rmse = np.sqrt(mean_squared_error(test_df[target], preds))\n",
    "print(\"Test RMSE:\", rmse) "
   ]
  },
  {
   "cell_type": "code",
   "execution_count": 29,
   "id": "44efb3b4",
   "metadata": {},
   "outputs": [
    {
     "name": "stdout",
     "output_type": "stream",
     "text": [
      "      Ticker        Date  Future_Price_pct_diff_1  Predicted     Error\n",
      "22705   SMCI  2024-06-30                 2.553191   0.391897  2.161294\n",
      "22702   SMCI  2023-09-30                 1.339277   0.735000  0.604277\n",
      "4598     CCL  2023-11-30                 0.408727  -0.027731  0.436458\n",
      "24853   TSLA  2023-06-30                 0.684202   0.300760  0.383442\n",
      "10674   FSLR  2024-09-30                 0.335664  -0.036042  0.371705\n",
      "4599     CCL  2024-02-29                -0.048040   0.298083  0.346123\n",
      "17617   MRNA  2024-09-30                 0.114396  -0.174816  0.289212\n",
      "18370    NEM  2024-06-30                -0.127259   0.138465  0.265724\n",
      "26681    WDC  2023-06-30                 0.193978  -0.053096  0.247074\n",
      "19795   PARA  2023-06-30                 0.337759   0.090711  0.247048\n",
      "16771   META  2023-06-30                 0.761177   0.517342  0.243835\n",
      "17970   MTCH  2024-03-31                -0.068283   0.171754  0.240037\n",
      "20614   PLTR  2023-06-30                 0.316199   0.076784  0.239416\n",
      "1237    ALGN  2024-03-31                -0.102581   0.127787  0.230368\n",
      "19736   PANW  2023-10-31                 0.369944   0.155114  0.214830\n",
      "26577    WBD  2023-06-30                 0.592827   0.378684  0.214143\n",
      "26578    WBD  2023-09-30                -0.169536   0.043280  0.212817\n",
      "17008   MKTX  2023-06-30                 0.405912   0.198654  0.207258\n",
      "17533   MPWR  2023-06-30                 0.418404   0.213433  0.204970\n",
      "2281    APTV  2023-09-30                -0.090026   0.114605  0.204631\n",
      "19007   NVDA  2024-01-31                -0.127237   0.075846  0.203083\n",
      "4597     CCL  2023-08-31                 0.057439   0.260086  0.202647\n",
      "14455    KEY  2023-12-31                 0.186865  -0.013354  0.200219\n",
      "17534   MPWR  2023-09-30                 0.081345   0.281215  0.199870\n",
      "27674   ZBRA  2023-06-30                 0.240201   0.044871  0.195330\n",
      "6274     CRL  2024-09-30                -0.237572  -0.045809  0.191762\n",
      "19499     ON  2024-03-31                -0.101345   0.088782  0.190126\n",
      "19005   NVDA  2023-07-31                 0.420572   0.231507  0.189065\n",
      "26168    VST  2024-09-30                 0.237669   0.048640  0.189028\n",
      "20968   POOL  2023-06-30                 0.135950  -0.049959  0.185909\n"
     ]
    }
   ],
   "source": [
    "errors = np.abs(test_df[target] - preds)\n",
    "\n",
    "# Create a DataFrame to store actual, predicted, and errors\n",
    "error_df = test_df[['Ticker', 'Date', target]].copy()\n",
    "error_df['Predicted'] = preds\n",
    "error_df['Error'] = errors\n",
    "\n",
    "# Sort by error in descending order and display the top 30\n",
    "top_30_errors = error_df.sort_values(by='Error', ascending=False).head(30)\n",
    "print(top_30_errors)"
   ]
  },
  {
   "cell_type": "code",
   "execution_count": null,
   "id": "19c5cb2f-e56d-4a36-95a0-c899f2c643fb",
   "metadata": {},
   "outputs": [
    {
     "data": {
      "image/png": "[encoded data removed]",
      "text/plain": [
       "<Figure size 1000x500 with 1 Axes>"
      ]
     },
     "metadata": {},
     "output_type": "display_data"
    }
   ],
   "source": [
    "ticker_example = test_df[test_df['Ticker'] == 'AAPL']\n",
    "plt.figure(figsize=(10, 5))\n",
    "plt.plot(ticker_example['Date'], ticker_example[target], label='Observed')\n",
    "plt.plot(ticker_example['Date'], model.predict(Pool(ticker_example[features], cat_features=cat_features)),\n",
    "         label='Predicted', linestyle='--')\n",
    "plt.title(f'Observed vs. Predicted {target} for {ticker_example[\"Ticker\"].iloc[0]}')\n",
    "plt.xlabel('Date')\n",
    "plt.ylabel(target)\n",
    "plt.legend()\n",
    "plt.show()"
   ]
  },
  {
   "cell_type": "code",
   "execution_count": null,
   "id": "a1e43f0d-9a61-4d05-9c57-d54f7e395acb",
   "metadata": {},
   "outputs": [
    {
     "name": "stderr",
     "output_type": "stream",
     "text": [
      "\n",
      "\n",
      "  0%|                                                                                          | 0/100 [41:34<?, ?it/s]\u001b[A\u001b[A\n"
     ]
    },
    {
     "ename": "KeyboardInterrupt",
     "evalue": "",
     "output_type": "error",
     "traceback": [
      "\u001b[1;31m---------------------------------------------------------------------------\u001b[0m",
      "\u001b[1;31mKeyboardInterrupt\u001b[0m                         Traceback (most recent call last)",
      "Cell \u001b[1;32mIn[22], line 113\u001b[0m\n\u001b[0;32m     99\u001b[0m optimizer \u001b[38;5;241m=\u001b[39m BayesSearchCV(\n\u001b[0;32m    100\u001b[0m     estimator\u001b[38;5;241m=\u001b[39mestimator,\n\u001b[0;32m    101\u001b[0m     search_spaces\u001b[38;5;241m=\u001b[39msearch_spaces,\n\u001b[1;32m   (...)\u001b[0m\n\u001b[0;32m    109\u001b[0m     random_state\u001b[38;5;241m=\u001b[39m\u001b[38;5;241m23\u001b[39m\n\u001b[0;32m    110\u001b[0m )\n\u001b[0;32m    112\u001b[0m \u001b[38;5;66;03m# --- Step 4: Run the Hyperparameter Tuning ---\u001b[39;00m\n\u001b[1;32m--> 113\u001b[0m optimizer\u001b[38;5;241m.\u001b[39mfit(X_train, y_train, callback\u001b[38;5;241m=\u001b[39mcallback)\n\u001b[0;32m    114\u001b[0m callback\u001b[38;5;241m.\u001b[39mpbar\u001b[38;5;241m.\u001b[39mclose()\n\u001b[0;32m    116\u001b[0m \u001b[38;5;28mprint\u001b[39m(\u001b[38;5;124m\"\u001b[39m\u001b[38;5;124mBest Parameters:\u001b[39m\u001b[38;5;124m\"\u001b[39m, optimizer\u001b[38;5;241m.\u001b[39mbest_params_)\n",
      "File \u001b[1;32m~\\anaconda3\\Lib\\site-packages\\skopt\\searchcv.py:542\u001b[0m, in \u001b[0;36mBayesSearchCV.fit\u001b[1;34m(self, X, y, groups, callback, **fit_params)\u001b[0m\n\u001b[0;32m    535\u001b[0m \u001b[38;5;28;01mif\u001b[39;00m \u001b[38;5;28mcallable\u001b[39m(\u001b[38;5;28mself\u001b[39m\u001b[38;5;241m.\u001b[39mrefit):\n\u001b[0;32m    536\u001b[0m     \u001b[38;5;28;01mraise\u001b[39;00m \u001b[38;5;167;01mValueError\u001b[39;00m(\n\u001b[0;32m    537\u001b[0m         \u001b[38;5;124m\"\u001b[39m\u001b[38;5;124mBayesSearchCV doesn\u001b[39m\u001b[38;5;124m'\u001b[39m\u001b[38;5;124mt support a callable refit, \u001b[39m\u001b[38;5;124m\"\u001b[39m\n\u001b[0;32m    538\u001b[0m         \u001b[38;5;124m\"\u001b[39m\u001b[38;5;124mas it doesn\u001b[39m\u001b[38;5;124m'\u001b[39m\u001b[38;5;124mt define an implicit score to \u001b[39m\u001b[38;5;124m\"\u001b[39m\n\u001b[0;32m    539\u001b[0m         \u001b[38;5;124m\"\u001b[39m\u001b[38;5;124moptimize\u001b[39m\u001b[38;5;124m\"\u001b[39m\n\u001b[0;32m    540\u001b[0m     )\n\u001b[1;32m--> 542\u001b[0m \u001b[38;5;28msuper\u001b[39m()\u001b[38;5;241m.\u001b[39mfit(X\u001b[38;5;241m=\u001b[39mX, y\u001b[38;5;241m=\u001b[39my, groups\u001b[38;5;241m=\u001b[39mgroups, \u001b[38;5;241m*\u001b[39m\u001b[38;5;241m*\u001b[39mfit_params)\n\u001b[0;32m    544\u001b[0m \u001b[38;5;66;03m# BaseSearchCV never ranked train scores,\u001b[39;00m\n\u001b[0;32m    545\u001b[0m \u001b[38;5;66;03m# but apparently we used to ship this (back-compat)\u001b[39;00m\n\u001b[0;32m    546\u001b[0m \u001b[38;5;28;01mif\u001b[39;00m \u001b[38;5;28mself\u001b[39m\u001b[38;5;241m.\u001b[39mreturn_train_score:\n",
      "File \u001b[1;32m~\\anaconda3\\Lib\\site-packages\\sklearn\\base.py:1474\u001b[0m, in \u001b[0;36m_fit_context.<locals>.decorator.<locals>.wrapper\u001b[1;34m(estimator, *args, **kwargs)\u001b[0m\n\u001b[0;32m   1467\u001b[0m     estimator\u001b[38;5;241m.\u001b[39m_validate_params()\n\u001b[0;32m   1469\u001b[0m \u001b[38;5;28;01mwith\u001b[39;00m config_context(\n\u001b[0;32m   1470\u001b[0m     skip_parameter_validation\u001b[38;5;241m=\u001b[39m(\n\u001b[0;32m   1471\u001b[0m         prefer_skip_nested_validation \u001b[38;5;129;01mor\u001b[39;00m global_skip_validation\n\u001b[0;32m   1472\u001b[0m     )\n\u001b[0;32m   1473\u001b[0m ):\n\u001b[1;32m-> 1474\u001b[0m     \u001b[38;5;28;01mreturn\u001b[39;00m fit_method(estimator, \u001b[38;5;241m*\u001b[39margs, \u001b[38;5;241m*\u001b[39m\u001b[38;5;241m*\u001b[39mkwargs)\n",
      "File \u001b[1;32m~\\anaconda3\\Lib\\site-packages\\sklearn\\model_selection\\_search.py:970\u001b[0m, in \u001b[0;36mBaseSearchCV.fit\u001b[1;34m(self, X, y, **params)\u001b[0m\n\u001b[0;32m    964\u001b[0m     results \u001b[38;5;241m=\u001b[39m \u001b[38;5;28mself\u001b[39m\u001b[38;5;241m.\u001b[39m_format_results(\n\u001b[0;32m    965\u001b[0m         all_candidate_params, n_splits, all_out, all_more_results\n\u001b[0;32m    966\u001b[0m     )\n\u001b[0;32m    968\u001b[0m     \u001b[38;5;28;01mreturn\u001b[39;00m results\n\u001b[1;32m--> 970\u001b[0m \u001b[38;5;28mself\u001b[39m\u001b[38;5;241m.\u001b[39m_run_search(evaluate_candidates)\n\u001b[0;32m    972\u001b[0m \u001b[38;5;66;03m# multimetric is determined here because in the case of a callable\u001b[39;00m\n\u001b[0;32m    973\u001b[0m \u001b[38;5;66;03m# self.scoring the return type is only known after calling\u001b[39;00m\n\u001b[0;32m    974\u001b[0m first_test_score \u001b[38;5;241m=\u001b[39m all_out[\u001b[38;5;241m0\u001b[39m][\u001b[38;5;124m\"\u001b[39m\u001b[38;5;124mtest_scores\u001b[39m\u001b[38;5;124m\"\u001b[39m]\n",
      "File \u001b[1;32m~\\anaconda3\\Lib\\site-packages\\skopt\\searchcv.py:599\u001b[0m, in \u001b[0;36mBayesSearchCV._run_search\u001b[1;34m(self, evaluate_candidates)\u001b[0m\n\u001b[0;32m    595\u001b[0m \u001b[38;5;28;01mwhile\u001b[39;00m n_iter \u001b[38;5;241m>\u001b[39m \u001b[38;5;241m0\u001b[39m:\n\u001b[0;32m    596\u001b[0m     \u001b[38;5;66;03m# when n_iter < n_points points left for evaluation\u001b[39;00m\n\u001b[0;32m    597\u001b[0m     n_points_adjusted \u001b[38;5;241m=\u001b[39m \u001b[38;5;28mmin\u001b[39m(n_iter, n_points)\n\u001b[1;32m--> 599\u001b[0m     optim_result, score_name \u001b[38;5;241m=\u001b[39m \u001b[38;5;28mself\u001b[39m\u001b[38;5;241m.\u001b[39m_step(\n\u001b[0;32m    600\u001b[0m         search_space,\n\u001b[0;32m    601\u001b[0m         optimizer,\n\u001b[0;32m    602\u001b[0m         score_name,\n\u001b[0;32m    603\u001b[0m         evaluate_candidates,\n\u001b[0;32m    604\u001b[0m         n_points\u001b[38;5;241m=\u001b[39mn_points_adjusted,\n\u001b[0;32m    605\u001b[0m     )\n\u001b[0;32m    606\u001b[0m     n_iter \u001b[38;5;241m-\u001b[39m\u001b[38;5;241m=\u001b[39m n_points\n\u001b[0;32m    608\u001b[0m     \u001b[38;5;28;01mif\u001b[39;00m eval_callbacks(callbacks, optim_result):\n",
      "File \u001b[1;32m~\\anaconda3\\Lib\\site-packages\\skopt\\searchcv.py:453\u001b[0m, in \u001b[0;36mBayesSearchCV._step\u001b[1;34m(self, search_space, optimizer, score_name, evaluate_candidates, n_points)\u001b[0m\n\u001b[0;32m    450\u001b[0m \u001b[38;5;66;03m# make lists into dictionaries\u001b[39;00m\n\u001b[0;32m    451\u001b[0m params_dict \u001b[38;5;241m=\u001b[39m [point_asdict(search_space, p) \u001b[38;5;28;01mfor\u001b[39;00m p \u001b[38;5;129;01min\u001b[39;00m params]\n\u001b[1;32m--> 453\u001b[0m all_results \u001b[38;5;241m=\u001b[39m evaluate_candidates(params_dict)\n\u001b[0;32m    455\u001b[0m \u001b[38;5;66;03m# if self.scoring is a callable, we have to wait until here\u001b[39;00m\n\u001b[0;32m    456\u001b[0m \u001b[38;5;66;03m# to get the score name\u001b[39;00m\n\u001b[0;32m    457\u001b[0m \u001b[38;5;28;01mif\u001b[39;00m score_name \u001b[38;5;129;01mis\u001b[39;00m \u001b[38;5;28;01mNone\u001b[39;00m:\n",
      "File \u001b[1;32m~\\anaconda3\\Lib\\site-packages\\sklearn\\model_selection\\_search.py:916\u001b[0m, in \u001b[0;36mBaseSearchCV.fit.<locals>.evaluate_candidates\u001b[1;34m(candidate_params, cv, more_results)\u001b[0m\n\u001b[0;32m    908\u001b[0m \u001b[38;5;28;01mif\u001b[39;00m \u001b[38;5;28mself\u001b[39m\u001b[38;5;241m.\u001b[39mverbose \u001b[38;5;241m>\u001b[39m \u001b[38;5;241m0\u001b[39m:\n\u001b[0;32m    909\u001b[0m     \u001b[38;5;28mprint\u001b[39m(\n\u001b[0;32m    910\u001b[0m         \u001b[38;5;124m\"\u001b[39m\u001b[38;5;124mFitting \u001b[39m\u001b[38;5;132;01m{0}\u001b[39;00m\u001b[38;5;124m folds for each of \u001b[39m\u001b[38;5;132;01m{1}\u001b[39;00m\u001b[38;5;124m candidates,\u001b[39m\u001b[38;5;124m\"\u001b[39m\n\u001b[0;32m    911\u001b[0m         \u001b[38;5;124m\"\u001b[39m\u001b[38;5;124m totalling \u001b[39m\u001b[38;5;132;01m{2}\u001b[39;00m\u001b[38;5;124m fits\u001b[39m\u001b[38;5;124m\"\u001b[39m\u001b[38;5;241m.\u001b[39mformat(\n\u001b[0;32m    912\u001b[0m             n_splits, n_candidates, n_candidates \u001b[38;5;241m*\u001b[39m n_splits\n\u001b[0;32m    913\u001b[0m         )\n\u001b[0;32m    914\u001b[0m     )\n\u001b[1;32m--> 916\u001b[0m out \u001b[38;5;241m=\u001b[39m parallel(\n\u001b[0;32m    917\u001b[0m     delayed(_fit_and_score)(\n\u001b[0;32m    918\u001b[0m         clone(base_estimator),\n\u001b[0;32m    919\u001b[0m         X,\n\u001b[0;32m    920\u001b[0m         y,\n\u001b[0;32m    921\u001b[0m         train\u001b[38;5;241m=\u001b[39mtrain,\n\u001b[0;32m    922\u001b[0m         test\u001b[38;5;241m=\u001b[39mtest,\n\u001b[0;32m    923\u001b[0m         parameters\u001b[38;5;241m=\u001b[39mparameters,\n\u001b[0;32m    924\u001b[0m         split_progress\u001b[38;5;241m=\u001b[39m(split_idx, n_splits),\n\u001b[0;32m    925\u001b[0m         candidate_progress\u001b[38;5;241m=\u001b[39m(cand_idx, n_candidates),\n\u001b[0;32m    926\u001b[0m         \u001b[38;5;241m*\u001b[39m\u001b[38;5;241m*\u001b[39mfit_and_score_kwargs,\n\u001b[0;32m    927\u001b[0m     )\n\u001b[0;32m    928\u001b[0m     \u001b[38;5;28;01mfor\u001b[39;00m (cand_idx, parameters), (split_idx, (train, test)) \u001b[38;5;129;01min\u001b[39;00m product(\n\u001b[0;32m    929\u001b[0m         \u001b[38;5;28menumerate\u001b[39m(candidate_params),\n\u001b[0;32m    930\u001b[0m         \u001b[38;5;28menumerate\u001b[39m(cv\u001b[38;5;241m.\u001b[39msplit(X, y, \u001b[38;5;241m*\u001b[39m\u001b[38;5;241m*\u001b[39mrouted_params\u001b[38;5;241m.\u001b[39msplitter\u001b[38;5;241m.\u001b[39msplit)),\n\u001b[0;32m    931\u001b[0m     )\n\u001b[0;32m    932\u001b[0m )\n\u001b[0;32m    934\u001b[0m \u001b[38;5;28;01mif\u001b[39;00m \u001b[38;5;28mlen\u001b[39m(out) \u001b[38;5;241m<\u001b[39m \u001b[38;5;241m1\u001b[39m:\n\u001b[0;32m    935\u001b[0m     \u001b[38;5;28;01mraise\u001b[39;00m \u001b[38;5;167;01mValueError\u001b[39;00m(\n\u001b[0;32m    936\u001b[0m         \u001b[38;5;124m\"\u001b[39m\u001b[38;5;124mNo fits were performed. \u001b[39m\u001b[38;5;124m\"\u001b[39m\n\u001b[0;32m    937\u001b[0m         \u001b[38;5;124m\"\u001b[39m\u001b[38;5;124mWas the CV iterator empty? \u001b[39m\u001b[38;5;124m\"\u001b[39m\n\u001b[0;32m    938\u001b[0m         \u001b[38;5;124m\"\u001b[39m\u001b[38;5;124mWere there no candidates?\u001b[39m\u001b[38;5;124m\"\u001b[39m\n\u001b[0;32m    939\u001b[0m     )\n",
      "File \u001b[1;32m~\\anaconda3\\Lib\\site-packages\\sklearn\\utils\\parallel.py:67\u001b[0m, in \u001b[0;36mParallel.__call__\u001b[1;34m(self, iterable)\u001b[0m\n\u001b[0;32m     62\u001b[0m config \u001b[38;5;241m=\u001b[39m get_config()\n\u001b[0;32m     63\u001b[0m iterable_with_config \u001b[38;5;241m=\u001b[39m (\n\u001b[0;32m     64\u001b[0m     (_with_config(delayed_func, config), args, kwargs)\n\u001b[0;32m     65\u001b[0m     \u001b[38;5;28;01mfor\u001b[39;00m delayed_func, args, kwargs \u001b[38;5;129;01min\u001b[39;00m iterable\n\u001b[0;32m     66\u001b[0m )\n\u001b[1;32m---> 67\u001b[0m \u001b[38;5;28;01mreturn\u001b[39;00m \u001b[38;5;28msuper\u001b[39m()\u001b[38;5;241m.\u001b[39m\u001b[38;5;21m__call__\u001b[39m(iterable_with_config)\n",
      "File \u001b[1;32m~\\anaconda3\\Lib\\site-packages\\joblib\\parallel.py:2007\u001b[0m, in \u001b[0;36mParallel.__call__\u001b[1;34m(self, iterable)\u001b[0m\n\u001b[0;32m   2001\u001b[0m \u001b[38;5;66;03m# The first item from the output is blank, but it makes the interpreter\u001b[39;00m\n\u001b[0;32m   2002\u001b[0m \u001b[38;5;66;03m# progress until it enters the Try/Except block of the generator and\u001b[39;00m\n\u001b[0;32m   2003\u001b[0m \u001b[38;5;66;03m# reaches the first `yield` statement. This starts the asynchronous\u001b[39;00m\n\u001b[0;32m   2004\u001b[0m \u001b[38;5;66;03m# dispatch of the tasks to the workers.\u001b[39;00m\n\u001b[0;32m   2005\u001b[0m \u001b[38;5;28mnext\u001b[39m(output)\n\u001b[1;32m-> 2007\u001b[0m \u001b[38;5;28;01mreturn\u001b[39;00m output \u001b[38;5;28;01mif\u001b[39;00m \u001b[38;5;28mself\u001b[39m\u001b[38;5;241m.\u001b[39mreturn_generator \u001b[38;5;28;01melse\u001b[39;00m \u001b[38;5;28mlist\u001b[39m(output)\n",
      "File \u001b[1;32m~\\anaconda3\\Lib\\site-packages\\joblib\\parallel.py:1650\u001b[0m, in \u001b[0;36mParallel._get_outputs\u001b[1;34m(self, iterator, pre_dispatch)\u001b[0m\n\u001b[0;32m   1647\u001b[0m     \u001b[38;5;28;01myield\u001b[39;00m\n\u001b[0;32m   1649\u001b[0m     \u001b[38;5;28;01mwith\u001b[39;00m \u001b[38;5;28mself\u001b[39m\u001b[38;5;241m.\u001b[39m_backend\u001b[38;5;241m.\u001b[39mretrieval_context():\n\u001b[1;32m-> 1650\u001b[0m         \u001b[38;5;28;01myield from\u001b[39;00m \u001b[38;5;28mself\u001b[39m\u001b[38;5;241m.\u001b[39m_retrieve()\n\u001b[0;32m   1652\u001b[0m \u001b[38;5;28;01mexcept\u001b[39;00m \u001b[38;5;167;01mGeneratorExit\u001b[39;00m:\n\u001b[0;32m   1653\u001b[0m     \u001b[38;5;66;03m# The generator has been garbage collected before being fully\u001b[39;00m\n\u001b[0;32m   1654\u001b[0m     \u001b[38;5;66;03m# consumed. This aborts the remaining tasks if possible and warn\u001b[39;00m\n\u001b[0;32m   1655\u001b[0m     \u001b[38;5;66;03m# the user if necessary.\u001b[39;00m\n\u001b[0;32m   1656\u001b[0m     \u001b[38;5;28mself\u001b[39m\u001b[38;5;241m.\u001b[39m_exception \u001b[38;5;241m=\u001b[39m \u001b[38;5;28;01mTrue\u001b[39;00m\n",
      "File \u001b[1;32m~\\anaconda3\\Lib\\site-packages\\joblib\\parallel.py:1762\u001b[0m, in \u001b[0;36mParallel._retrieve\u001b[1;34m(self)\u001b[0m\n\u001b[0;32m   1757\u001b[0m \u001b[38;5;66;03m# If the next job is not ready for retrieval yet, we just wait for\u001b[39;00m\n\u001b[0;32m   1758\u001b[0m \u001b[38;5;66;03m# async callbacks to progress.\u001b[39;00m\n\u001b[0;32m   1759\u001b[0m \u001b[38;5;28;01mif\u001b[39;00m ((\u001b[38;5;28mlen\u001b[39m(\u001b[38;5;28mself\u001b[39m\u001b[38;5;241m.\u001b[39m_jobs) \u001b[38;5;241m==\u001b[39m \u001b[38;5;241m0\u001b[39m) \u001b[38;5;129;01mor\u001b[39;00m\n\u001b[0;32m   1760\u001b[0m     (\u001b[38;5;28mself\u001b[39m\u001b[38;5;241m.\u001b[39m_jobs[\u001b[38;5;241m0\u001b[39m]\u001b[38;5;241m.\u001b[39mget_status(\n\u001b[0;32m   1761\u001b[0m         timeout\u001b[38;5;241m=\u001b[39m\u001b[38;5;28mself\u001b[39m\u001b[38;5;241m.\u001b[39mtimeout) \u001b[38;5;241m==\u001b[39m TASK_PENDING)):\n\u001b[1;32m-> 1762\u001b[0m     time\u001b[38;5;241m.\u001b[39msleep(\u001b[38;5;241m0.01\u001b[39m)\n\u001b[0;32m   1763\u001b[0m     \u001b[38;5;28;01mcontinue\u001b[39;00m\n\u001b[0;32m   1765\u001b[0m \u001b[38;5;66;03m# We need to be careful: the job list can be filling up as\u001b[39;00m\n\u001b[0;32m   1766\u001b[0m \u001b[38;5;66;03m# we empty it and Python list are not thread-safe by\u001b[39;00m\n\u001b[0;32m   1767\u001b[0m \u001b[38;5;66;03m# default hence the use of the lock\u001b[39;00m\n",
      "\u001b[1;31mKeyboardInterrupt\u001b[0m: "
     ]
    }
   ],
   "source": [
    "import numpy as np\n",
    "import pandas as pd\n",
    "from catboost import CatBoostRegressor, Pool\n",
    "from sklearn.base import BaseEstimator, RegressorMixin\n",
    "from sklearn.model_selection import TimeSeriesSplit  # or KFold, as needed\n",
    "from sklearn.metrics import mean_squared_error, make_scorer\n",
    "from skopt import BayesSearchCV\n",
    "from skopt.space import Real, Integer\n",
    "#from skopt.callbacks import TqdmCallback\n",
    "import warnings\n",
    "warnings.filterwarnings('ignore')\n",
    "\n",
    "# --- Step 1: Create a Custom Wrapper for CatBoost ---\n",
    "\n",
    "class CatBoostRegressorWrapper(BaseEstimator, RegressorMixin):\n",
    "    def __init__(self, cat_features=None, **kwargs):\n",
    "        \"\"\"\n",
    "        Wrapper for CatBoostRegressor that supports hyperparameter tuning via scikit-learn.\n",
    "        \n",
    "        Parameters:\n",
    "            cat_features: list of column names or indices to be treated as categorical.\n",
    "            **kwargs: additional hyperparameters for CatBoostRegressor.\n",
    "        \"\"\"\n",
    "        self.cat_features = cat_features\n",
    "        self.kwargs = kwargs  # store additional CatBoost parameters\n",
    "        self.model_ = None\n",
    "\n",
    "    def fit(self, X, y, **fit_params):\n",
    "        # Convert data to a CatBoost Pool using provided categorical features.\n",
    "        pool = Pool(data=X, label=y, cat_features=self.cat_features)\n",
    "        # Create and fit the CatBoostRegressor with the stored parameters.\n",
    "        self.model_ = CatBoostRegressor(**self.get_params())\n",
    "        self.model_.fit(pool, **fit_params)\n",
    "        return self\n",
    "\n",
    "    def predict(self, X):\n",
    "        pool = Pool(data=X, cat_features=self.cat_features)\n",
    "        return self.model_.predict(pool)\n",
    "\n",
    "    def score(self, X, y):\n",
    "        preds = self.predict(X)\n",
    "        return -mean_squared_error(y, preds)\n",
    "\n",
    "    def get_params(self, deep=True):\n",
    "        # Return a dict of parameters that includes 'cat_features' and all kwargs.\n",
    "        params = {'cat_features': self.cat_features}\n",
    "        params.update(self.kwargs)\n",
    "        return params\n",
    "\n",
    "    def set_params(self, **parameters):\n",
    "        # Update parameters and return self.\n",
    "        for key, value in parameters.items():\n",
    "            if key == 'cat_features':\n",
    "                self.cat_features = value\n",
    "            else:\n",
    "                self.kwargs[key] = value\n",
    "        return self\n",
    "\n",
    "X_train = train_df[features]\n",
    "y_train = train_df[target]\n",
    "X_test = test_df[features]\n",
    "y_test = test_df[target]\n",
    "\n",
    "# --- Step 3: Setup Advanced Hyperparameter Tuning with BayesSearchCV ---\n",
    "\n",
    "# Define the search space using skopt.space objects\n",
    "search_spaces = {\n",
    "    'learning_rate': Real(0.01, 0.3, prior='log-uniform'),\n",
    "    'depth': Integer(3, 10),\n",
    "    'l2_leaf_reg': Real(1e-9, 10, prior='log-uniform'),\n",
    "    'bagging_temperature': Real(0.0, 1.0),\n",
    "    'border_count': Integer(32, 255),\n",
    "    'iterations': Integer(100, 1000),\n",
    "    'subsample': Real(0.5, 1.0)\n",
    "}\n",
    "\n",
    "# Define initial fixed parameters if desired (you can leave them to be tuned as well)\n",
    "fixed_params = {\n",
    "    'random_seed': 23,\n",
    "    'verbose': 0,\n",
    "    'thread_count': 8\n",
    "}\n",
    "\n",
    "# Merge fixed parameters into initial parameters of our estimator\n",
    "init_params = {**fixed_params}\n",
    "\n",
    "# Initialize the custom wrapper estimator, passing the list of categorical feature names.\n",
    "estimator = CatBoostRegressorWrapper(cat_features=cat_features, **init_params)\n",
    "\n",
    "# Define cross-validation. For time series you might use TimeSeriesSplit; here we use KFold for simplicity.\n",
    "from sklearn.model_selection import KFold\n",
    "cv = KFold(n_splits=5, shuffle=False)\n",
    "\n",
    "# Number of iterations for Bayesian search and initialize a progress callback\n",
    "n_iter = 3\n",
    "callback = TqdmCallback(total=n_iter)\n",
    "\n",
    "# Setup BayesSearchCV\n",
    "optimizer = BayesSearchCV(\n",
    "    estimator=estimator,\n",
    "    search_spaces=search_spaces,\n",
    "    n_iter=n_iter,\n",
    "    cv=cv,\n",
    "    scoring=make_scorer(mean_squared_error, greater_is_better=False),\n",
    "    n_jobs=-1,\n",
    "    n_points=8,\n",
    "    return_train_score=True,\n",
    "    verbose=0,\n",
    "    random_state=23\n",
    ")\n",
    "\n",
    "# --- Step 4: Run the Hyperparameter Tuning ---\n",
    "optimizer.fit(X_train, y_train, callback=callback)\n",
    "callback.pbar.close()\n",
    "\n",
    "print(\"Best Parameters:\", optimizer.best_params_)\n",
    "print(\"Best CV Score (Negative MSE):\", optimizer.best_score_)\n",
    "\n",
    "# --- Step 5: Evaluate on Test Data ---\n",
    "best_estimator = optimizer.best_estimator_\n",
    "preds_test = best_estimator.predict(X_test)\n",
    "test_mse = mean_squared_error(y_test, preds_test)\n",
    "print(\"Test MSE:\", test_mse)"
   ]
  },
  {
   "cell_type": "code",
   "execution_count": null,
   "id": "1c22c00a-4062-47a2-a01b-cf80dcf9bbe0",
   "metadata": {},
   "outputs": [],
   "source": []
  }
 ],
 "metadata": {
  "kernelspec": {
   "display_name": "Python 3",
   "language": "python",
   "name": "python3"
  },
  "language_info": {
   "codemirror_mode": {
    "name": "ipython",
    "version": 3
   },
   "file_extension": ".py",
   "mimetype": "text/x-python",
   "name": "python",
   "nbconvert_exporter": "python",
   "pygments_lexer": "ipython3",
   "version": "3.11.0"
  }
 },
 "nbformat": 4,
 "nbformat_minor": 5
}
